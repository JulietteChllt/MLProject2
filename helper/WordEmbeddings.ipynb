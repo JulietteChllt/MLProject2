{
 "cells": [
  {
   "cell_type": "markdown",
   "id": "a669d86a",
   "metadata": {},
   "source": [
    "## Importing libraries "
   ]
  },
  {
   "cell_type": "code",
   "execution_count": 8,
   "id": "9a292d44",
   "metadata": {},
   "outputs": [],
   "source": [
    "import itertools\n",
    "import random\n",
    "from nltk.tokenize import word_tokenize\n",
    "from sklearn.feature_extraction.text import CountVectorizer\n",
    "from gensim.models import word2vec                                   #pip install gensim\n",
    "from gensim.models.word2vec import Text8Corpus\n",
    "import gensim.downloader as api\n",
    "from glove import Corpus, Glove                                      #pip install glove-py"
   ]
  },
  {
   "cell_type": "code",
   "execution_count": 9,
   "id": "407f20f9",
   "metadata": {},
   "outputs": [],
   "source": [
    "PATH_TRAIN_NEG = '../Resources/train_neg_proccessed.txt'\n",
    "PATH_TRAIN_POS = '../Resources/train_pos_proccessed.txt'\n",
    "\n",
    "with open(PATH_TRAIN_POS) as f:\n",
    "    train_pos = f.read().splitlines()\n",
    "with open(PATH_TRAIN_NEG) as f:\n",
    "    train_neg = f.read().splitlines()\n",
    "\n",
    "train_set = train_pos + train_neg\n",
    "traimn_set = random.shuffle(train_set)"
   ]
  },
  {
   "cell_type": "markdown",
   "id": "16f302c3",
   "metadata": {},
   "source": [
    "## Count Vectorizer "
   ]
  },
  {
   "cell_type": "code",
   "execution_count": 10,
   "id": "c4dda91f",
   "metadata": {},
   "outputs": [],
   "source": [
    "\"basic and naive method for word embedding\"\n",
    "def we_count_vectorize(train_set) :\n",
    "    \n",
    "    vectorizer = CountVectorizer(lowercase=True)\n",
    "    text_counts = vectorizer.fit_transform(train_set)\n",
    "    voc = vectorizer.vocabulary_\n",
    "    \n",
    "    return voc, text_counts"
   ]
  },
  {
   "cell_type": "code",
   "execution_count": 11,
   "id": "65ffb8cf",
   "metadata": {},
   "outputs": [],
   "source": [
    "\"Sparse matrix : would require way too much space (around 38GB)\"\n",
    "voc, text_counts = we_count_vectorize(train_set)"
   ]
  },
  {
   "cell_type": "markdown",
   "id": "c25194ad",
   "metadata": {},
   "source": [
    "## Word2Vector"
   ]
  },
  {
   "cell_type": "code",
   "execution_count": 12,
   "id": "700b2411",
   "metadata": {},
   "outputs": [],
   "source": [
    "\"neural embedding model\"\n",
    "def we_word2vector(train_set) :\n",
    "    \n",
    "    tokenized_tweet = [tweet.split() for tweet in train_set]\n",
    "    model = word2vec.Word2Vec(tokenized_tweet, window = 5, min_count=1)\n",
    "    #model_pos.save(\"word2vec.model\")\n",
    "\n",
    "    return model"
   ]
  },
  {
   "cell_type": "code",
   "execution_count": 13,
   "id": "028a3b0c",
   "metadata": {},
   "outputs": [],
   "source": [
    "train_w2v = we_word2vector(train_set)"
   ]
  },
  {
   "cell_type": "markdown",
   "id": "9df787ed",
   "metadata": {},
   "source": [
    "## GloVe"
   ]
  },
  {
   "cell_type": "code",
   "execution_count": null,
   "id": "95415523",
   "metadata": {},
   "outputs": [],
   "source": [
    "\"Glove: Global Vectors for Word Representation\"\n",
    "\n",
    "def we_glove(train_set) : \n",
    "    # model = list of sentences\n",
    "    model = api.load(\"glove-twitter-25\")\n",
    "    #corpus = 1 list of words\n",
    "    corpus = list(itertools.chain.from_iterable(model))\n",
    "    "
   ]
  }
 ],
 "metadata": {
  "kernelspec": {
   "display_name": "Python 3",
   "language": "python",
   "name": "python3"
  },
  "language_info": {
   "codemirror_mode": {
    "name": "ipython",
    "version": 3
   },
   "file_extension": ".py",
   "mimetype": "text/x-python",
   "name": "python",
   "nbconvert_exporter": "python",
   "pygments_lexer": "ipython3",
   "version": "3.8.8"
  }
 },
 "nbformat": 4,
 "nbformat_minor": 5
}
