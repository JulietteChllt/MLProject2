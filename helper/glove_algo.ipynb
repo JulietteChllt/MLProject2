{
 "cells": [
  {
   "cell_type": "code",
   "execution_count": 3,
   "metadata": {},
   "outputs": [
    {
     "name": "stderr",
     "output_type": "stream",
     "text": [
      "2021-12-15 19:10:59.627283: W tensorflow/stream_executor/platform/default/dso_loader.cc:64] Could not load dynamic library 'libcudart.so.11.0'; dlerror: libcudart.so.11.0: cannot open shared object file: No such file or directory\n",
      "2021-12-15 19:10:59.627307: I tensorflow/stream_executor/cuda/cudart_stub.cc:29] Ignore above cudart dlerror if you do not have a GPU set up on your machine.\n"
     ]
    }
   ],
   "source": [
    "import pandas as pd\n",
    "import numpy as np\n",
    "import gensim\n",
    "import csv\n",
    "\n",
    "from sklearn.feature_extraction.text import CountVectorizer\n",
    "from sklearn.feature_extraction.text import TfidfVectorizer\n",
    "from gensim.models import Word2Vec                                   #pip install gensim\n",
    "from gensim.models.word2vec import Text8Corpus\n",
    "import gensim.downloader as api\n",
    "from glove import *\n",
    "from keras.preprocessing.text import Tokenizer\n",
    "from keras.preprocessing.sequence import pad_sequences\n",
    "from keras.models import Sequential\n",
    "from keras.layers import Dense\n",
    "from keras.layers import Flatten\n",
    "from keras.layers import Embedding"
   ]
  },
  {
   "cell_type": "code",
   "execution_count": 4,
   "metadata": {},
   "outputs": [],
   "source": [
    "def create_corpus(train_set):\n",
    "    \n",
    "    corpus=[]\n",
    "    for tweet in train_set:\n",
    "        # words=[word.lower() for word in word_tokenize(tweet) if(len(tweet)>1 and word.isalpha())]\n",
    "        corpus.append(tweet)\n",
    "        corpus = [element for element in corpus if len(element)>0]\n",
    "        \n",
    "    return corpus"
   ]
  },
  {
   "cell_type": "code",
   "execution_count": 5,
   "metadata": {},
   "outputs": [],
   "source": [
    "def create_pretrained() : \n",
    "    embedding_dict={}\n",
    "    with open('../Resources/twitter_dict/glove.twitter.27B.200d.txt','rb') as f:\n",
    "        for line in f:\n",
    "            values=line.split()\n",
    "            vectors=np.asarray(values[1:],'float32')\n",
    "            embedding_dict[values[0].decode()]=vectors\n",
    "    f.close()\n",
    "    \n",
    "    return embedding_dict"
   ]
  },
  {
   "cell_type": "code",
   "execution_count": 6,
   "metadata": {},
   "outputs": [],
   "source": [
    "def create_glove_emb(train_set) :\n",
    "    model = Corpus()\n",
    "    train_splitted = [tweet.split() for tweet in train_set]\n",
    "    model.fit(train_splitted, window = 5)\n",
    "    \n",
    "    glove = Glove(no_components=200, learning_rate=0.05)\n",
    "    glove.fit(model.matrix, epochs=50)\n",
    "    glove.add_dictionary(model.dictionary)\n",
    "    glove.save('glove.model')\n",
    "    \n",
    "    embedding_dict = {}\n",
    "    for w, id_ in glove.dictionary.items():\n",
    "        embedding_dict[w] = np.array(glove.word_vectors[id_])\n",
    "\n",
    "    return embedding_dict"
   ]
  },
  {
   "cell_type": "code",
   "execution_count": 7,
   "metadata": {},
   "outputs": [],
   "source": [
    "def load_embedding_dict(train_set, use_pretrained=True):\n",
    "    \n",
    "    if (use_pretrained) : \n",
    "        embedding_dict = create_pretrained()\n",
    "    else : \n",
    "        embedding_dict = create_glove_emb(train_set)\n",
    "    \n",
    "    return embedding_dict"
   ]
  },
  {
   "cell_type": "code",
   "execution_count": 13,
   "metadata": {},
   "outputs": [],
   "source": [
    "def create_sequence(corpus, size_pos, size_neg, max_length=None) : \n",
    "\n",
    "    tokenizer = Tokenizer()\n",
    "    tokenizer.fit_on_texts(corpus)\n",
    "    word_index = tokenizer.word_index\n",
    "    nb_words = len(word_index)\n",
    "    sequences = tokenizer.texts_to_sequences(corpus)\n",
    "    \n",
    "    tweet_pad = pad_sequences(sequences,maxlen=max_length,truncating='post',padding='post')\n",
    "    print(len(sequences), len(corpus), len(tweet_pad))\n",
    "    y = np.array(int(size_pos/2) * [0] + int(size_neg/2) * [1])\n",
    " \n",
    "    indices = np.arange(tweet_pad.shape[0])\n",
    "    np.random.shuffle(indices)\n",
    "    tweet_pad = tweet_pad[indices]\n",
    "    y = y[indices]\n",
    "\n",
    "    return tweet_pad , word_index , nb_words, y "
   ]
  },
  {
   "cell_type": "code",
   "execution_count": 14,
   "metadata": {},
   "outputs": [],
   "source": [
    "def we_glove(train_set,size_pos, size_neg, use_pretrained = True, max_length = None):\n",
    "    #corpus = create_corpus(train_set)\n",
    "    \n",
    "    sequence, word_index, nb_words, y = create_sequence(train_set,size_pos, size_neg, max_length)\n",
    "    num_words=nb_words+1\n",
    "    embedding_dict = load_embedding_dict(train_set, use_pretrained)\n",
    "    glove_matrix = np.zeros((num_words, 200))\n",
    "\n",
    "    for word,i in word_index.items():\n",
    "        if i >= num_words:\n",
    "            continue\n",
    "        if use_pretrained : \n",
    "            emb_vec = embedding_dict.get(word)\n",
    "        else : \n",
    "            emb_vec = embedding_dict.get(word)\n",
    "        if emb_vec is not None:\n",
    "            glove_matrix[i]=emb_vec\n",
    "            \n",
    "    return sequence, glove_matrix, embedding_dict, num_words, y "
   ]
  },
  {
   "cell_type": "code",
   "execution_count": 15,
   "metadata": {},
   "outputs": [],
   "source": [
    "PATH_TRAIN_NEG = '../Resources/preprocessing_neg1.txt'\n",
    "PATH_TRAIN_POS = '../Resources/preprocessing_pos1.txt'\n",
    "\n",
    "with open(PATH_TRAIN_POS) as f:\n",
    "    train_pos = f.read().splitlines()\n",
    "with open(PATH_TRAIN_NEG) as f:\n",
    "    train_neg = f.read().splitlines()\n",
    "\n",
    "train_set = train_pos + train_neg"
   ]
  },
  {
   "cell_type": "code",
   "execution_count": 16,
   "metadata": {},
   "outputs": [
    {
     "name": "stdout",
     "output_type": "stream",
     "text": [
      "172295 172295\n"
     ]
    },
    {
     "ename": "IndexError",
     "evalue": "index 156459 is out of bounds for axis 0 with size 86147",
     "output_type": "error",
     "traceback": [
      "\u001b[0;31m---------------------------------------------------------------------------\u001b[0m",
      "\u001b[0;31mIndexError\u001b[0m                                Traceback (most recent call last)",
      "\u001b[0;32m/tmp/ipykernel_29044/1034612927.py\u001b[0m in \u001b[0;36m<module>\u001b[0;34m\u001b[0m\n\u001b[0;32m----> 1\u001b[0;31m \u001b[0msequence1\u001b[0m\u001b[0;34m,\u001b[0m \u001b[0mglove_matrix1\u001b[0m\u001b[0;34m,\u001b[0m \u001b[0membedding_dict1\u001b[0m\u001b[0;34m,\u001b[0m \u001b[0mnb_words1\u001b[0m\u001b[0;34m,\u001b[0m \u001b[0my1\u001b[0m  \u001b[0;34m=\u001b[0m \u001b[0mwe_glove\u001b[0m\u001b[0;34m(\u001b[0m\u001b[0mtrain_set\u001b[0m\u001b[0;34m,\u001b[0m\u001b[0mlen\u001b[0m\u001b[0;34m(\u001b[0m\u001b[0mtrain_pos\u001b[0m\u001b[0;34m)\u001b[0m\u001b[0;34m,\u001b[0m \u001b[0mlen\u001b[0m\u001b[0;34m(\u001b[0m\u001b[0mtrain_neg\u001b[0m\u001b[0;34m)\u001b[0m\u001b[0;34m,\u001b[0m\u001b[0;32mFalse\u001b[0m\u001b[0;34m)\u001b[0m\u001b[0;34m\u001b[0m\u001b[0;34m\u001b[0m\u001b[0m\n\u001b[0m",
      "\u001b[0;32m/tmp/ipykernel_29044/4265406092.py\u001b[0m in \u001b[0;36mwe_glove\u001b[0;34m(train_set, size_pos, size_neg, use_pretrained, max_length)\u001b[0m\n\u001b[1;32m      2\u001b[0m     \u001b[0;31m#corpus = create_corpus(train_set)\u001b[0m\u001b[0;34m\u001b[0m\u001b[0;34m\u001b[0m\u001b[0;34m\u001b[0m\u001b[0m\n\u001b[1;32m      3\u001b[0m \u001b[0;34m\u001b[0m\u001b[0m\n\u001b[0;32m----> 4\u001b[0;31m     \u001b[0msequence\u001b[0m\u001b[0;34m,\u001b[0m \u001b[0mword_index\u001b[0m\u001b[0;34m,\u001b[0m \u001b[0mnb_words\u001b[0m\u001b[0;34m,\u001b[0m \u001b[0my\u001b[0m \u001b[0;34m=\u001b[0m \u001b[0mcreate_sequence\u001b[0m\u001b[0;34m(\u001b[0m\u001b[0mtrain_set\u001b[0m\u001b[0;34m,\u001b[0m\u001b[0msize_pos\u001b[0m\u001b[0;34m,\u001b[0m \u001b[0msize_neg\u001b[0m\u001b[0;34m,\u001b[0m \u001b[0mmax_length\u001b[0m\u001b[0;34m)\u001b[0m\u001b[0;34m\u001b[0m\u001b[0;34m\u001b[0m\u001b[0m\n\u001b[0m\u001b[1;32m      5\u001b[0m     \u001b[0mnum_words\u001b[0m\u001b[0;34m=\u001b[0m\u001b[0mnb_words\u001b[0m\u001b[0;34m+\u001b[0m\u001b[0;36m1\u001b[0m\u001b[0;34m\u001b[0m\u001b[0;34m\u001b[0m\u001b[0m\n\u001b[1;32m      6\u001b[0m     \u001b[0membedding_dict\u001b[0m \u001b[0;34m=\u001b[0m \u001b[0mload_embedding_dict\u001b[0m\u001b[0;34m(\u001b[0m\u001b[0mtrain_set\u001b[0m\u001b[0;34m,\u001b[0m \u001b[0muse_pretrained\u001b[0m\u001b[0;34m)\u001b[0m\u001b[0;34m\u001b[0m\u001b[0;34m\u001b[0m\u001b[0m\n",
      "\u001b[0;32m/tmp/ipykernel_29044/1226813293.py\u001b[0m in \u001b[0;36mcreate_sequence\u001b[0;34m(corpus, size_pos, size_neg, max_length)\u001b[0m\n\u001b[1;32m     14\u001b[0m     \u001b[0mnp\u001b[0m\u001b[0;34m.\u001b[0m\u001b[0mrandom\u001b[0m\u001b[0;34m.\u001b[0m\u001b[0mshuffle\u001b[0m\u001b[0;34m(\u001b[0m\u001b[0mindices\u001b[0m\u001b[0;34m)\u001b[0m\u001b[0;34m\u001b[0m\u001b[0;34m\u001b[0m\u001b[0m\n\u001b[1;32m     15\u001b[0m     \u001b[0mtweet_pad\u001b[0m \u001b[0;34m=\u001b[0m \u001b[0mtweet_pad\u001b[0m\u001b[0;34m[\u001b[0m\u001b[0mindices\u001b[0m\u001b[0;34m]\u001b[0m\u001b[0;34m\u001b[0m\u001b[0;34m\u001b[0m\u001b[0m\n\u001b[0;32m---> 16\u001b[0;31m     \u001b[0my\u001b[0m \u001b[0;34m=\u001b[0m \u001b[0my\u001b[0m\u001b[0;34m[\u001b[0m\u001b[0mindices\u001b[0m\u001b[0;34m]\u001b[0m\u001b[0;34m\u001b[0m\u001b[0;34m\u001b[0m\u001b[0m\n\u001b[0m\u001b[1;32m     17\u001b[0m \u001b[0;34m\u001b[0m\u001b[0m\n\u001b[1;32m     18\u001b[0m     \u001b[0;32mreturn\u001b[0m \u001b[0mtweet_pad\u001b[0m \u001b[0;34m,\u001b[0m \u001b[0mword_index\u001b[0m \u001b[0;34m,\u001b[0m \u001b[0mnb_words\u001b[0m\u001b[0;34m,\u001b[0m \u001b[0my\u001b[0m\u001b[0;34m\u001b[0m\u001b[0;34m\u001b[0m\u001b[0m\n",
      "\u001b[0;31mIndexError\u001b[0m: index 156459 is out of bounds for axis 0 with size 86147"
     ]
    }
   ],
   "source": [
    "sequence1, glove_matrix1, embedding_dict1, nb_words1, y1  = we_glove(train_set,len(train_pos), len(train_neg),False)"
   ]
  },
  {
   "cell_type": "code",
   "execution_count": 64,
   "metadata": {},
   "outputs": [
    {
     "name": "stdout",
     "output_type": "stream",
     "text": [
      "Model: \"sequential_4\"\n",
      "_________________________________________________________________\n",
      " Layer (type)                Output Shape              Param #   \n",
      "=================================================================\n",
      " embedding_4 (Embedding)     (None, 968910, 200)       13847400  \n",
      "                                                                 \n",
      " flatten_2 (Flatten)         (None, 193782000)         0         \n",
      "                                                                 \n",
      " dense_2 (Dense)             (None, 1)                 193782001 \n",
      "                                                                 \n",
      "=================================================================\n",
      "Total params: 207,629,401\n",
      "Trainable params: 193,782,001\n",
      "Non-trainable params: 13,847,400\n",
      "_________________________________________________________________\n",
      "None\n"
     ]
    }
   ],
   "source": [
    "# define model\n",
    "model = Sequential()\n",
    "e = Embedding(nb_words1, 200, weights=[glove_matrix1], input_length=sequence1.shape[1], trainable=False)\n",
    "model.add(e)\n",
    "model.add(Flatten())\n",
    "model.add(Dense(1, activation='sigmoid'))\n",
    "# compile the model\n",
    "model.compile(optimizer='adam', loss='binary_crossentropy', metrics=['accuracy'])\n",
    "# summarize the model\n",
    "print(model.summary())"
   ]
  },
  {
   "cell_type": "code",
   "execution_count": 65,
   "metadata": {},
   "outputs": [
    {
     "name": "stdout",
     "output_type": "stream",
     "text": [
      "(2, 968910)\n",
      "[1 0]\n"
     ]
    }
   ],
   "source": [
    "print(sequence1.shape)\n",
    "print(y1)\n"
   ]
  },
  {
   "cell_type": "code",
   "execution_count": 66,
   "metadata": {},
   "outputs": [],
   "source": [
    "model.fit(sequence1, y1, epochs=50, verbose=0)"
   ]
  },
  {
   "cell_type": "code",
   "execution_count": 1,
   "metadata": {},
   "outputs": [
    {
     "ename": "NameError",
     "evalue": "name 'PATH_TRAIN_NEG' is not defined",
     "output_type": "error",
     "traceback": [
      "\u001b[0;31m---------------------------------------------------------------------------\u001b[0m",
      "\u001b[0;31mNameError\u001b[0m                                 Traceback (most recent call last)",
      "\u001b[0;32m/tmp/ipykernel_29044/1008852413.py\u001b[0m in \u001b[0;36m<module>\u001b[0;34m\u001b[0m\n\u001b[1;32m      1\u001b[0m \u001b[0mPATH_TRAIN_POS\u001b[0m \u001b[0;34m=\u001b[0m \u001b[0;34m'../Resources/test_data_processed.txt'\u001b[0m\u001b[0;34m\u001b[0m\u001b[0;34m\u001b[0m\u001b[0m\n\u001b[0;32m----> 2\u001b[0;31m \u001b[0;32mwith\u001b[0m \u001b[0mopen\u001b[0m\u001b[0;34m(\u001b[0m\u001b[0mPATH_TRAIN_NEG\u001b[0m\u001b[0;34m)\u001b[0m \u001b[0;32mas\u001b[0m \u001b[0mf\u001b[0m\u001b[0;34m:\u001b[0m\u001b[0;34m\u001b[0m\u001b[0;34m\u001b[0m\u001b[0m\n\u001b[0m\u001b[1;32m      3\u001b[0m     \u001b[0mtest_set\u001b[0m \u001b[0;34m=\u001b[0m \u001b[0mf\u001b[0m\u001b[0;34m.\u001b[0m\u001b[0mread\u001b[0m\u001b[0;34m(\u001b[0m\u001b[0;34m)\u001b[0m\u001b[0;34m.\u001b[0m\u001b[0msplitlines\u001b[0m\u001b[0;34m(\u001b[0m\u001b[0;34m)\u001b[0m\u001b[0;34m\u001b[0m\u001b[0;34m\u001b[0m\u001b[0m\n",
      "\u001b[0;31mNameError\u001b[0m: name 'PATH_TRAIN_NEG' is not defined"
     ]
    }
   ],
   "source": [
    "PATH_TRAIN_POS = '../Resources/test_data_processed.txt'\n",
    "with open(PATH_TRAIN_NEG) as f:\n",
    "    test_set = f.read().splitlines()\n"
   ]
  },
  {
   "cell_type": "code",
   "execution_count": null,
   "metadata": {},
   "outputs": [],
   "source": [
    "test_sequence, glove_matrix_test, embedding_dict_test, nb_words_test, y_test = we_glove(train_set,False)"
   ]
  },
  {
   "cell_type": "code",
   "execution_count": null,
   "metadata": {},
   "outputs": [
    {
     "name": "stdout",
     "output_type": "stream",
     "text": [
      "(2, 968910)\n"
     ]
    }
   ],
   "source": [
    "print(test_sequence.shape)"
   ]
  },
  {
   "cell_type": "code",
   "execution_count": null,
   "metadata": {},
   "outputs": [],
   "source": [
    "predictions = model.predict(test_sequence)"
   ]
  },
  {
   "cell_type": "code",
   "execution_count": null,
   "metadata": {},
   "outputs": [
    {
     "name": "stdout",
     "output_type": "stream",
     "text": [
      "(2, 1)\n",
      "[[0.]\n",
      " [1.]]\n"
     ]
    }
   ],
   "source": [
    "print(predictions.shape)\n",
    "print(predictions)"
   ]
  },
  {
   "cell_type": "code",
   "execution_count": null,
   "metadata": {},
   "outputs": [],
   "source": [
    "with open('../Resources/glove_result.csv', 'w') as out:\n",
    "    writer = csv.writer(out)\n",
    "    writer.writerow([\"Id\", \"Prediction\"])\n",
    "    for a, b in predictions:\n",
    "        if b == 0:\n",
    "            writer.writerow([a, -1])\n",
    "        else:\n",
    "            writer.writerow([a, 1])"
   ]
  },
  {
   "cell_type": "code",
   "execution_count": null,
   "metadata": {},
   "outputs": [],
   "source": []
  }
 ],
 "metadata": {
  "interpreter": {
   "hash": "31f2aee4e71d21fbe5cf8b01ff0e069b9275f58929596ceb00d14d90e3e16cd6"
  },
  "kernelspec": {
   "display_name": "Python 3.8.10 64-bit",
   "language": "python",
   "name": "python3"
  },
  "language_info": {
   "codemirror_mode": {
    "name": "ipython",
    "version": 3
   },
   "file_extension": ".py",
   "mimetype": "text/x-python",
   "name": "python",
   "nbconvert_exporter": "python",
   "pygments_lexer": "ipython3",
   "version": "3.8.10"
  },
  "orig_nbformat": 4
 },
 "nbformat": 4,
 "nbformat_minor": 2
}
