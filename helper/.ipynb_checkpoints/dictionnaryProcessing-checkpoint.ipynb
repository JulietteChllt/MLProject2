{
 "cells": [
  {
   "cell_type": "code",
   "execution_count": 1,
   "id": "792ab4b9",
   "metadata": {},
   "outputs": [],
   "source": [
    "PATH_TRAIN_NEG = '../Resources/LoughranMcDonald_Negative.csv'\n",
    "PATH_TRAIN_POS = '../Resources/LoughranMcDonald_Positive.csv'"
   ]
  },
  {
   "cell_type": "code",
   "execution_count": 30,
   "id": "2ea4eecd",
   "metadata": {},
   "outputs": [],
   "source": [
    "import csv\n",
    "import pandas as pd"
   ]
  },
  {
   "cell_type": "code",
   "execution_count": 31,
   "id": "bd38df21",
   "metadata": {},
   "outputs": [],
   "source": [
    "data_pos= pd.read_csv(PATH_TRAIN_POS,header = None)\n",
    "data_neg= pd.read_csv(PATH_TRAIN_NEG, header = None)"
   ]
  },
  {
   "cell_type": "code",
   "execution_count": 32,
   "id": "352751a4",
   "metadata": {},
   "outputs": [
    {
     "data": {
      "text/html": [
       "<div>\n",
       "<style scoped>\n",
       "    .dataframe tbody tr th:only-of-type {\n",
       "        vertical-align: middle;\n",
       "    }\n",
       "\n",
       "    .dataframe tbody tr th {\n",
       "        vertical-align: top;\n",
       "    }\n",
       "\n",
       "    .dataframe thead th {\n",
       "        text-align: right;\n",
       "    }\n",
       "</style>\n",
       "<table border=\"1\" class=\"dataframe\">\n",
       "  <thead>\n",
       "    <tr style=\"text-align: right;\">\n",
       "      <th></th>\n",
       "      <th>0</th>\n",
       "      <th>1</th>\n",
       "    </tr>\n",
       "  </thead>\n",
       "  <tbody>\n",
       "    <tr>\n",
       "      <th>0</th>\n",
       "      <td>ABLE</td>\n",
       "      <td>2009</td>\n",
       "    </tr>\n",
       "    <tr>\n",
       "      <th>1</th>\n",
       "      <td>ABUNDANCE</td>\n",
       "      <td>2009</td>\n",
       "    </tr>\n",
       "    <tr>\n",
       "      <th>2</th>\n",
       "      <td>ABUNDANT</td>\n",
       "      <td>2009</td>\n",
       "    </tr>\n",
       "    <tr>\n",
       "      <th>3</th>\n",
       "      <td>ACCLAIMED</td>\n",
       "      <td>2009</td>\n",
       "    </tr>\n",
       "    <tr>\n",
       "      <th>4</th>\n",
       "      <td>ACCOMPLISH</td>\n",
       "      <td>2009</td>\n",
       "    </tr>\n",
       "    <tr>\n",
       "      <th>...</th>\n",
       "      <td>...</td>\n",
       "      <td>...</td>\n",
       "    </tr>\n",
       "    <tr>\n",
       "      <th>349</th>\n",
       "      <td>WIN</td>\n",
       "      <td>2009</td>\n",
       "    </tr>\n",
       "    <tr>\n",
       "      <th>350</th>\n",
       "      <td>WINNER</td>\n",
       "      <td>2009</td>\n",
       "    </tr>\n",
       "    <tr>\n",
       "      <th>351</th>\n",
       "      <td>WINNERS</td>\n",
       "      <td>2009</td>\n",
       "    </tr>\n",
       "    <tr>\n",
       "      <th>352</th>\n",
       "      <td>WINNING</td>\n",
       "      <td>2009</td>\n",
       "    </tr>\n",
       "    <tr>\n",
       "      <th>353</th>\n",
       "      <td>WORTHY</td>\n",
       "      <td>2009</td>\n",
       "    </tr>\n",
       "  </tbody>\n",
       "</table>\n",
       "<p>354 rows × 2 columns</p>\n",
       "</div>"
      ],
      "text/plain": [
       "              0     1\n",
       "0          ABLE  2009\n",
       "1     ABUNDANCE  2009\n",
       "2      ABUNDANT  2009\n",
       "3     ACCLAIMED  2009\n",
       "4    ACCOMPLISH  2009\n",
       "..          ...   ...\n",
       "349         WIN  2009\n",
       "350      WINNER  2009\n",
       "351     WINNERS  2009\n",
       "352     WINNING  2009\n",
       "353      WORTHY  2009\n",
       "\n",
       "[354 rows x 2 columns]"
      ]
     },
     "execution_count": 32,
     "metadata": {},
     "output_type": "execute_result"
    }
   ],
   "source": [
    "data_pos"
   ]
  },
  {
   "cell_type": "code",
   "execution_count": 33,
   "id": "54af9271",
   "metadata": {},
   "outputs": [],
   "source": [
    "data_pos=data_pos[0]\n",
    "data_neg = data_neg[0]"
   ]
  },
  {
   "cell_type": "code",
   "execution_count": 34,
   "id": "f56aaeea",
   "metadata": {},
   "outputs": [
    {
     "data": {
      "text/plain": [
       "0            ABLE\n",
       "1       ABUNDANCE\n",
       "2        ABUNDANT\n",
       "3       ACCLAIMED\n",
       "4      ACCOMPLISH\n",
       "          ...    \n",
       "349           WIN\n",
       "350        WINNER\n",
       "351       WINNERS\n",
       "352       WINNING\n",
       "353        WORTHY\n",
       "Name: 0, Length: 354, dtype: object"
      ]
     },
     "execution_count": 34,
     "metadata": {},
     "output_type": "execute_result"
    }
   ],
   "source": [
    "data_pos"
   ]
  },
  {
   "cell_type": "code",
   "execution_count": 35,
   "id": "ac545cbe",
   "metadata": {},
   "outputs": [
    {
     "data": {
      "text/plain": [
       "0            ABANDON\n",
       "1          ABANDONED\n",
       "2         ABANDONING\n",
       "3        ABANDONMENT\n",
       "4       ABANDONMENTS\n",
       "            ...     \n",
       "2345      WRONGDOING\n",
       "2346     WRONGDOINGS\n",
       "2347        WRONGFUL\n",
       "2348      WRONGFULLY\n",
       "2349         WRONGLY\n",
       "Name: 0, Length: 2350, dtype: object"
      ]
     },
     "execution_count": 35,
     "metadata": {},
     "output_type": "execute_result"
    }
   ],
   "source": [
    "data_neg"
   ]
  },
  {
   "cell_type": "code",
   "execution_count": 42,
   "id": "a1cfc498",
   "metadata": {},
   "outputs": [],
   "source": [
    "data_pos.to_csv('C:/Users/julie/OneDrive/Documents/GitHub/MLProject2/Resources/LoughranMcDonald_PositiveClean.csv')"
   ]
  },
  {
   "cell_type": "code",
   "execution_count": 39,
   "id": "7e2dfa98",
   "metadata": {},
   "outputs": [],
   "source": [
    "data_neg.to_csv('C:/Users/julie/OneDrive/Documents/GitHub/MLProject2/Resources/LoughranMcDonald_NegativeClean.csv')"
   ]
  },
  {
   "cell_type": "code",
   "execution_count": null,
   "id": "a8741c6e",
   "metadata": {},
   "outputs": [],
   "source": []
  }
 ],
 "metadata": {
  "kernelspec": {
   "display_name": "Python 3",
   "language": "python",
   "name": "python3"
  },
  "language_info": {
   "codemirror_mode": {
    "name": "ipython",
    "version": 3
   },
   "file_extension": ".py",
   "mimetype": "text/x-python",
   "name": "python",
   "nbconvert_exporter": "python",
   "pygments_lexer": "ipython3",
   "version": "3.8.8"
  }
 },
 "nbformat": 4,
 "nbformat_minor": 5
}
